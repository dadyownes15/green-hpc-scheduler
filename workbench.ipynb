{
 "cells": [
  {
   "cell_type": "code",
   "execution_count": 9,
   "id": "3fdfa625",
   "metadata": {},
   "outputs": [],
   "source": [
    "from baseline import Baseline\n",
    "from job import Job"
   ]
  },
  {
   "cell_type": "code",
   "execution_count": 10,
   "id": "dd2e53d3",
   "metadata": {},
   "outputs": [],
   "source": [
    "WORKLOAD_PATH = \"data/workloads/lublin_256.swf\""
   ]
  },
  {
   "cell_type": "markdown",
   "id": "bb09741c",
   "metadata": {},
   "source": [
    "## Utilizing baseline for scheduling"
   ]
  },
  {
   "cell_type": "code",
   "execution_count": 11,
   "id": "e18ca6a4",
   "metadata": {},
   "outputs": [
    {
     "name": "stdout",
     "output_type": "stream",
     "text": [
      "Using constant power: 500.0 watts per processor\n",
      "Max Allocated Processors: 256 ;max node: 256 ;max procs: 256 ;max execution time: 124707\n"
     ]
    }
   ],
   "source": [
    "baseline = Baseline(workload_path=WORKLOAD_PATH, year=2021, start_offset=0)\n"
   ]
  },
  {
   "cell_type": "code",
   "execution_count": 12,
   "id": "df3fd152",
   "metadata": {},
   "outputs": [
    {
     "name": "stdout",
     "output_type": "stream",
     "text": [
      "DId not schedule  job  {300}\n",
      "DId not schedule  job  {303}\n",
      "DId not schedule  job  {319}\n",
      "DId not schedule  job  {325}\n",
      "DId not schedule  job  {347}\n",
      "DId not schedule  job  {356}\n",
      "DId not schedule  job  {361}\n",
      "DId not schedule  job  {363}\n",
      "DId not schedule  job  {376}\n",
      "DId not schedule  job  {378}\n",
      "DId not schedule  job  {312}\n",
      "DId not schedule  job  {301}\n",
      "DId not schedule  job  {326}\n",
      "DId not schedule  job  {346}\n",
      "DId not schedule  job  {360}\n",
      "DId not schedule  job  {384}\n",
      "DId not schedule  job  {305}\n",
      "DId not schedule  job  {359}\n",
      "DId not schedule  job  {368}\n",
      "DId not schedule  job  {387}\n",
      "DId not schedule  job  {389}\n",
      "DId not schedule  job  {340}\n",
      "DId not schedule  job  {322}\n",
      "DId not schedule  job  {308}\n",
      "DId not schedule  job  {311}\n",
      "DId not schedule  job  {373}\n",
      "DId not schedule  job  {374}\n",
      "DId not schedule  job  {380}\n",
      "DId not schedule  job  {394}\n",
      "DId not schedule  job  {307}\n",
      "DId not schedule  job  {298}\n",
      "DId not schedule  job  {323}\n",
      "DId not schedule  job  {304}\n",
      "DId not schedule  job  {317}\n",
      "DId not schedule  job  {320}\n",
      "DId not schedule  job  {331}\n",
      "DId not schedule  job  {336}\n",
      "DId not schedule  job  {338}\n",
      "DId not schedule  job  {344}\n",
      "DId not schedule  job  {355}\n",
      "DId not schedule  job  {366}\n",
      "DId not schedule  job  {371}\n",
      "DId not schedule  job  {299}\n",
      "DId not schedule  job  {353}\n",
      "DId not schedule  job  {391}\n",
      "DId not schedule  job  {334}\n",
      "DId not schedule  job  {335}\n",
      "DId not schedule  job  {350}\n",
      "DId not schedule  job  {379}\n",
      "\n",
      "--- Scheduling Complete ---\n",
      "Scheduled 51 out of 100 jobs.\n",
      "Total Carbon Emissions: 8.09 gCO2eq\n",
      "Execution Speed: 0.0073 seconds\n",
      "---------------------------\n",
      "\n"
     ]
    }
   ],
   "source": [
    "baseline.minimal_carbon_calc(end_hour=1000,n_jobs=100)\n",
    "reserved_list = baseline.reserved_list"
   ]
  },
  {
   "cell_type": "code",
   "execution_count": null,
   "id": "a11a2fe7",
   "metadata": {},
   "outputs": [],
   "source": []
  }
 ],
 "metadata": {
  "kernelspec": {
   "display_name": ".venv",
   "language": "python",
   "name": "python3"
  },
  "language_info": {
   "codemirror_mode": {
    "name": "ipython",
    "version": 3
   },
   "file_extension": ".py",
   "mimetype": "text/x-python",
   "name": "python",
   "nbconvert_exporter": "python",
   "pygments_lexer": "ipython3",
   "version": "3.12.2"
  }
 },
 "nbformat": 4,
 "nbformat_minor": 5
}

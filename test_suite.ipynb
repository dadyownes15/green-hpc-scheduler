{
 "cells": [
  {
   "cell_type": "code",
   "execution_count": 1,
   "id": "ac690cb1",
   "metadata": {},
   "outputs": [],
   "source": [
    "from hpc_env import HPCenv"
   ]
  },
  {
   "cell_type": "code",
   "execution_count": 2,
   "id": "2810da53",
   "metadata": {},
   "outputs": [],
   "source": [
    "import gymnasium as gym\n",
    "import numpy as np\n",
    "import configparser\n",
    "import ast\n",
    "import os\n",
    "\n",
    "from sb3_contrib.common.maskable.policies import MaskableActorCriticPolicy\n",
    "from sb3_contrib.common.wrappers import ActionMasker\n",
    "from sb3_contrib.ppo_mask import MaskablePPO"
   ]
  },
  {
   "cell_type": "code",
   "execution_count": 3,
   "id": "153d9772",
   "metadata": {},
   "outputs": [],
   "source": [
    "# Load config with explicit path and typed parsing\n",
    "config = configparser.ConfigParser()\n",
    "config_path = os.path.join(os.getcwd(), 'config_file', 'config.ini')\n",
    "config.read(config_path)\n",
    "MAX_QUEUE_SIZE = config.getint('architecture', 'max_queue_size')\n",
    "RUN_WIN_LENGTH = config.getint('architecture', 'run_win_length')\n",
    "GREEN_FORECAST_LENGTH = config.getint('architecture', 'green_forecast_length')\n",
    "\n",
    "DELAY_TIME_LIST = ast.literal_eval(config.get('architecture', 'delay_time_list'))\n",
    "DELAY_TIME_LIST_LENGTH = len(DELAY_TIME_LIST)\n",
    "\n",
    "JOB_FEATURE = config.getint('architecture', 'job_feature')\n",
    "RUN_FEATURE = config.getint('architecture', 'run_feature')\n",
    "GREEN_FEATURE_PR_TIMESLOT = config.getint('architecture', 'green_feature_pr_timeslot')\n",
    "GREEN_FEATURE_CONSTANT = config.getint('architecture', 'green_feature_constant')\n",
    "MAX_WAIT_N_JOBS = config.getint('architecture', 'max_wait_n_jobs')\n",
    "\n",
    "# Power / carbon settings (use correct option names)\n",
    "IDLE_POWER = config.getfloat('power settings', 'idle_power')\n",
    "NUM_PROCS_PER_NODE = config.getint('power settings', 'procs_per_node')\n",
    "CARBON_YEAR = config.getint('power settings', 'carbon_year')\n",
    "\n",
    "EPISODE_LENGTH = config.getint('training', 'episode_length')"
   ]
  },
  {
   "cell_type": "markdown",
   "id": "d72ef75f",
   "metadata": {},
   "source": [
    "## Masking function size"
   ]
  },
  {
   "cell_type": "code",
   "execution_count": 4,
   "id": "70ae3b6e",
   "metadata": {},
   "outputs": [
    {
     "name": "stdout",
     "output_type": "stream",
     "text": [
      "Using constant power: 500.0 watts per processor\n",
      "Max Allocated Processors: 256 ;max node: 256 ;max procs: 256 ;max execution time: 124707\n",
      "Masking function test passed ✅\n"
     ]
    }
   ],
   "source": [
    "WORKLOAD_PATH = \"data/workloads/lublin_256.swf\"\n",
    "env = HPCenv(workload_path=WORKLOAD_PATH)\n",
    "def mask_fn(env: gym.Env) -> np.ndarray:\n",
    "    # Do whatever you'd like in this function to return the action mask\n",
    "    # for the current env. In this example, we assume the env has a\n",
    "    # helpful method we can rely on.\n",
    "    return env.valid_action_mask()\n",
    "masking_function = mask_fn(env)\n",
    "\n",
    "assert (env.action_space_size == len(masking_function))\n",
    "print(\"Masking function test passed ✅\")"
   ]
  },
  {
   "cell_type": "markdown",
   "id": "4d4ece47",
   "metadata": {},
   "source": [
    "#### Observation state "
   ]
  },
  {
   "cell_type": "code",
   "execution_count": null,
   "id": "1710286c",
   "metadata": {},
   "outputs": [
    {
     "name": "stdout",
     "output_type": "stream",
     "text": [
      "Using constant power: 500.0 watts per processor\n",
      "Max Allocated Processors: 256 ;max node: 256 ;max procs: 256 ;max execution time: 124707\n",
      "Predefined sized: (1487,)\n",
      "Actual observation state size:  (1487,)\n",
      "Observation state size passed ✅\n"
     ]
    }
   ],
   "source": [
    "env = HPCenv(workload_path=WORKLOAD_PATH)\n",
    "env.reset(seed=42,options=None)\n",
    "\n",
    "predefined_size = env.observation_space._shape\n",
    "actual_shape = env.build_observation().shape\n",
    "\n",
    "print(\"Predefined sized:\", predefined_size)\n",
    "print(\"Actual observation state size: \", actual_shape)\n",
    "assert predefined_size == actual_shape\n",
    "print(\"Observation state size passed ✅\")"
   ]
  },
  {
   "cell_type": "code",
   "execution_count": null,
   "id": "8e497eb8",
   "metadata": {},
   "outputs": [],
   "source": []
  }
 ],
 "metadata": {
  "kernelspec": {
   "display_name": ".venv",
   "language": "python",
   "name": "python3"
  },
  "language_info": {
   "codemirror_mode": {
    "name": "ipython",
    "version": 3
   },
   "file_extension": ".py",
   "mimetype": "text/x-python",
   "name": "python",
   "nbconvert_exporter": "python",
   "pygments_lexer": "ipython3",
   "version": "3.12.2"
  }
 },
 "nbformat": 4,
 "nbformat_minor": 5
}

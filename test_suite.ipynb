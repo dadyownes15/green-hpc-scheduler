{
 "cells": [
  {
   "cell_type": "code",
   "execution_count": 1,
   "id": "ac690cb1",
   "metadata": {},
   "outputs": [],
   "source": [
    "from src.hpc_env import HPCenv\n",
    "from src.baseline import MedianBaseline \n",
    "from src.utils import get_config_as_dict, VideoGenerator, mask_fn"
   ]
  },
  {
   "cell_type": "code",
   "execution_count": 4,
   "id": "2810da53",
   "metadata": {},
   "outputs": [],
   "source": [
    "import gymnasium as gym\n",
    "import numpy as np\n",
    "import configparser\n",
    "import ast\n",
    "import os\n",
    "\n",
    "from sb3_contrib.common.maskable.policies import MaskableActorCriticPolicy\n",
    "from sb3_contrib.common.wrappers import ActionMasker\n",
    "from sb3_contrib.ppo_mask import MaskablePPO"
   ]
  },
  {
   "cell_type": "code",
   "execution_count": 5,
   "id": "153d9772",
   "metadata": {},
   "outputs": [],
   "source": [
    "# Load config with explicit path and typed parsing\n",
    "config = configparser.ConfigParser()\n",
    "config_path = os.path.join(os.getcwd(), 'config_file', 'config.ini')\n",
    "config.read(config_path)\n",
    "config_dict = get_config_as_dict(config)"
   ]
  },
  {
   "cell_type": "markdown",
   "id": "d72ef75f",
   "metadata": {},
   "source": [
    "#### Masking function size"
   ]
  },
  {
   "cell_type": "code",
   "execution_count": 6,
   "id": "70ae3b6e",
   "metadata": {},
   "outputs": [
    {
     "name": "stdout",
     "output_type": "stream",
     "text": [
      "Max Allocated Processors: 256 ;max node: 256 ;max procs: 256 ;max execution time: 124707\n",
      "Masking function test passed ✅\n"
     ]
    }
   ],
   "source": [
    "WORKLOAD_PATH = \"data/workloads/lublin_256.swf\"\n",
    "env = HPCenv(workload_path=WORKLOAD_PATH, config=config)\n",
    "masking_function = mask_fn(env)\n",
    "\n",
    "assert (env.action_space_size == len(masking_function))\n",
    "print(\"Masking function test passed ✅\")"
   ]
  },
  {
   "cell_type": "markdown",
   "id": "4d4ece47",
   "metadata": {},
   "source": [
    "#### Observation state "
   ]
  },
  {
   "cell_type": "code",
   "execution_count": 5,
   "id": "1710286c",
   "metadata": {},
   "outputs": [
    {
     "name": "stdout",
     "output_type": "stream",
     "text": [
      "Max Allocated Processors: 256 ;max node: 256 ;max procs: 256 ;max execution time: 124707\n",
      "Predefined sized: (1439,)\n",
      "Actual observation state size:  (1439,)\n",
      "Observation state size passed ✅\n"
     ]
    }
   ],
   "source": [
    "env = HPCenv(workload_path=WORKLOAD_PATH, config=config)\n",
    "env.reset(seed=42,options=None)\n",
    "\n",
    "predefined_size = env.observation_space._shape\n",
    "actual_shape = env.build_observation().shape\n",
    "\n",
    "print(\"Predefined sized:\", predefined_size)\n",
    "print(\"Actual observation state size: \", actual_shape)\n",
    "assert predefined_size == actual_shape\n",
    "print(\"Observation state size passed ✅\")"
   ]
  },
  {
   "cell_type": "markdown",
   "id": "c05ddb11",
   "metadata": {},
   "source": [
    "#### Carbon intensity forecast size and prediction"
   ]
  },
  {
   "cell_type": "code",
   "execution_count": 6,
   "id": "7c6c80e2",
   "metadata": {},
   "outputs": [
    {
     "name": "stdout",
     "output_type": "stream",
     "text": [
      "Carbon encoding size test passed ✅\n"
     ]
    }
   ],
   "source": [
    "carbon_encoding = env.carbon_intensity.create_carbon_forecast_enconding(current_timestamp=0)\n",
    "\n",
    "assert config_dict['green_feature_constant'] + (config_dict['green_forecast_length']-1)*config_dict['green_feature_pr_timeslot'] == len(carbon_encoding)\n",
    "\n",
    "\n",
    "print(\"Carbon encoding size test passed ✅\")"
   ]
  },
  {
   "cell_type": "markdown",
   "id": "402761c3",
   "metadata": {},
   "source": [
    "#### Baseline test"
   ]
  },
  {
   "cell_type": "code",
   "execution_count": 8,
   "id": "b99f8389",
   "metadata": {},
   "outputs": [
    {
     "name": "stdout",
     "output_type": "stream",
     "text": [
      "Max Allocated Processors: 256 ;max node: 256 ;max procs: 256 ;max execution time: 124707\n",
      "Directory created successfully at 'renderings/median_baseline/seed_2'.\n",
      "-1823157.492043055\n"
     ]
    }
   ],
   "source": [
    "seed = 2\n",
    "render_env = HPCenv(workload_path=WORKLOAD_PATH,generate_rendering=True, name=\"median_baseline\", config=config)\n",
    "baseline = MedianBaseline(env=render_env, config=config)\n",
    "reward = baseline.run(seed=seed)\n",
    "print(reward)"
   ]
  },
  {
   "cell_type": "markdown",
   "id": "e890e6b3",
   "metadata": {},
   "source": [
    "## Generate rendering videos\n"
   ]
  },
  {
   "cell_type": "code",
   "execution_count": null,
   "id": "d77e947e",
   "metadata": {},
   "outputs": [
    {
     "name": "stdout",
     "output_type": "stream",
     "text": [
      "MoviePy - Building video rendering.mp4.\n",
      "MoviePy - Writing video rendering.mp4\n",
      "\n"
     ]
    },
    {
     "name": "stderr",
     "output_type": "stream",
     "text": [
      "                                                                          \r"
     ]
    },
    {
     "name": "stdout",
     "output_type": "stream",
     "text": [
      "MoviePy - Done !\n",
      "MoviePy - video ready rendering.mp4\n",
      "Video saved as  median_baseline/seed_2/*.pngrendering.my\n"
     ]
    }
   ],
   "source": [
    "video_generator = VideoGenerator(path=render_env.dir_path)\n",
    "video_generator.generate_video()"
   ]
  },
  {
   "cell_type": "markdown",
   "id": "a5066e41",
   "metadata": {},
   "source": [
    "#### Config reader"
   ]
  },
  {
   "cell_type": "code",
   "execution_count": null,
   "id": "5f075d0f",
   "metadata": {},
   "outputs": [
    {
     "data": {
      "text/plain": [
       "{'use_constant_power': True,\n",
       " 'constant_power_per_processor': 500,\n",
       " 'procs_per_node': 1,\n",
       " 'idle_power': 15.0,\n",
       " 'carbon_year': 2021,\n",
       " 'variable_carbon_intensities': True,\n",
       " 'green_forecast_length': 24,\n",
       " 'eta': 0.0,\n",
       " 'max_queue_size': 256,\n",
       " 'run_win_length': 64,\n",
       " 'delay_time_list': [300, 600, 1200, 1800, 2400, 3000, 3600],\n",
       " 'delay_time_list_length': 7,\n",
       " 'max_wait_n_jobs': 10,\n",
       " 'job_feature': 5,\n",
       " 'run_feature': 2,\n",
       " 'green_feature_pr_timeslot': 1,\n",
       " 'green_feature_constant': 8,\n",
       " 'episode_length': 256,\n",
       " 'gamma': 1.0,\n",
       " 'gae_lambda': 0.97,\n",
       " 'base_line_wait_carbon_penality': 0.01,\n",
       " 'bounded_slowdown_threshhold': 10,\n",
       " 'reward_type': 'CO2_direct',\n",
       " 'max_power': 19000,\n",
       " 'max_green': 19000,\n",
       " 'max_wait_time': 200000,\n",
       " 'max_run_time': 162754,\n",
       " 'max_requested_processors': 256}"
      ]
     },
     "execution_count": 9,
     "metadata": {},
     "output_type": "execute_result"
    }
   ],
   "source": [
    "get_config_as_dict(config=config)"
   ]
  },
  {
   "cell_type": "markdown",
   "id": "e0b79987",
   "metadata": {},
   "source": [
    "\n"
   ]
  }
 ],
 "metadata": {
  "kernelspec": {
   "display_name": ".venv",
   "language": "python",
   "name": "python3"
  },
  "language_info": {
   "codemirror_mode": {
    "name": "ipython",
    "version": 3
   },
   "file_extension": ".py",
   "mimetype": "text/x-python",
   "name": "python",
   "nbconvert_exporter": "python",
   "pygments_lexer": "ipython3",
   "version": "3.12.2"
  }
 },
 "nbformat": 4,
 "nbformat_minor": 5
}

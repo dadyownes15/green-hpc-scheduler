{
 "cells": [
  {
   "cell_type": "code",
   "execution_count": 1,
   "id": "cf4dbe01",
   "metadata": {},
   "outputs": [],
   "source": [
    "import gymnasium as gym\n",
    "import numpy as np\n",
    "import math\n",
    "import os\n",
    "import configparser\n",
    "from sb3_contrib.common.maskable.policies import MaskableActorCriticPolicy\n",
    "from sb3_contrib.common.wrappers import ActionMasker\n",
    "from sb3_contrib.ppo_mask import MaskablePPO\n",
    "from stable_baselines3.common.monitor import Monitor\n",
    "from stable_baselines3.common.evaluation import evaluate_policy\n",
    "\n",
    "import matplotlib.pyplot as plt\n",
    "\n",
    "\n"
   ]
  },
  {
   "cell_type": "code",
   "execution_count": 2,
   "id": "627426dd",
   "metadata": {},
   "outputs": [],
   "source": [
    "from src.hpc_env import HPCenv\n",
    "from src.validation import Validation"
   ]
  },
  {
   "cell_type": "code",
   "execution_count": 3,
   "id": "dd9c0f21",
   "metadata": {},
   "outputs": [],
   "source": [
    "WORKLOAD_PATH = \"data/workloads/lublin_256.swf\"\n",
    "\n",
    "# Load config with explicit path and typed parsing\n",
    "config = configparser.ConfigParser()\n",
    "config_path = os.path.join(os.getcwd(), 'config_file', 'config.ini')\n",
    "config.read(config_path)\n",
    "\n",
    "GAE_LAMBDA = config.getfloat('training', 'gae_lambda')\n",
    "GAMMA = config.getfloat('training', 'gamma')\n",
    "EPISODE_LENGTH = config.getint('training', 'episode_length')"
   ]
  },
  {
   "cell_type": "markdown",
   "id": "2850aaf3",
   "metadata": {},
   "source": [
    "## Model training"
   ]
  },
  {
   "cell_type": "code",
   "execution_count": 4,
   "id": "e30c4119",
   "metadata": {},
   "outputs": [
    {
     "data": {
      "text/plain": [
       "' env = HPCenv(workload_path=WORKLOAD_PATH, config=config)\\n\\nenv = ActionMasker(env, mask_fn) \\nenv = Monitor(env)\\n\\nmodel = MaskablePPO(\"MlpPolicy\", env, verbose=1,\\n                    gamma=GAMMA,\\n                    gae_lambda=GAE_LAMBDA,\\n                    seed=42,\\n                    n_epochs=100\\n                    )\\nmodel.learn(total_timesteps=100000)  '"
      ]
     },
     "execution_count": 4,
     "metadata": {},
     "output_type": "execute_result"
    }
   ],
   "source": [
    "\"\"\" env = HPCenv(workload_path=WORKLOAD_PATH, config=config)\n",
    "\n",
    "env = ActionMasker(env, mask_fn) \n",
    "env = Monitor(env)\n",
    "\n",
    "model = MaskablePPO(\"MlpPolicy\", env, verbose=1,\n",
    "                    gamma=GAMMA,\n",
    "                    gae_lambda=GAE_LAMBDA,\n",
    "                    seed=42,\n",
    "                    n_epochs=100\n",
    "                    )\n",
    "model.learn(total_timesteps=100000)  \"\"\""
   ]
  },
  {
   "cell_type": "markdown",
   "id": "ec2d0ba2",
   "metadata": {},
   "source": [
    "## Model validation"
   ]
  },
  {
   "cell_type": "markdown",
   "id": "00b130b8",
   "metadata": {},
   "source": []
  }
 ],
 "metadata": {
  "kernelspec": {
   "display_name": ".venv",
   "language": "python",
   "name": "python3"
  },
  "language_info": {
   "codemirror_mode": {
    "name": "ipython",
    "version": 3
   },
   "file_extension": ".py",
   "mimetype": "text/x-python",
   "name": "python",
   "nbconvert_exporter": "python",
   "pygments_lexer": "ipython3",
   "version": "3.12.2"
  }
 },
 "nbformat": 4,
 "nbformat_minor": 5
}
